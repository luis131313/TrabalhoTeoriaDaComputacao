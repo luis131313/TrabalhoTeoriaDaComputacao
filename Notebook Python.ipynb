{
 "cells": [
  {
   "cell_type": "markdown",
   "id": "c412bd66",
   "metadata": {},
   "source": [
    "# Trabalho Final - Teoria da Computação\n",
    "Trabalho Final referente a disciplina de Teoria da Computação.\n",
    "\n",
    "Universidade Federal de Lavras.\n",
    "\n",
    "## ✒️ Autores\n",
    "\n",
    "- **Luis Ferreira** - [luis131313](https://github.com/luis131313)\n",
    "- **Matheus Silva** - [matheusGonks](https://github.com/matheusGonks)\n",
    "\n",
    "### Link para o [GitHub](https://github.com/luis131313/TrabalhoTeoriaDaComputacao)\n",
    "Respostas dos exercícios estão em um arquivo localizado no GitHub."
   ]
  },
  {
   "cell_type": "markdown",
   "id": "229ab6a8",
   "metadata": {},
   "source": [
    "### Exemplo de entrada:\n",
    "Numero 1: 111\n",
    "\n",
    "Numero 2: 011"
   ]
  },
  {
   "cell_type": "code",
   "execution_count": 7,
   "id": "ea5ab5ad",
   "metadata": {},
   "outputs": [
    {
     "name": "stdout",
     "output_type": "stream",
     "text": [
      "Insira o primeiro numero: 0\n",
      "Insira o segundo numero: 1\n",
      "Resultado: 1\n"
     ]
    }
   ],
   "source": [
    "def estadoQ0(fita, posFita):\n",
    "    if fita[posFita] == 'B':\n",
    "        posFita = posFita + 1\n",
    "        estadoQ1(fita, posFita)\n",
    "\n",
    "def estadoQ1(fita, posFita):\n",
    "    if fita[posFita] == '0' or fita[posFita] == '1':\n",
    "        posFita = posFita + 1\n",
    "        estadoQ1(fita, posFita)\n",
    "    else:\n",
    "        posFita = posFita + 1\n",
    "        estadoQ2(fita, posFita)\n",
    "\n",
    "def estadoQ2(fita, posFita):\n",
    "    if fita[posFita] == '0' or fita[posFita] == '1':\n",
    "        posFita = posFita + 1\n",
    "        estadoQ2(fita, posFita)\n",
    "    else:\n",
    "        posFita = posFita - 1\n",
    "        estadoQ3(fita, posFita)\n",
    "\n",
    "def estadoQ3(fita, posFita):\n",
    "    if fita[posFita] == '0':\n",
    "        fita[posFita] = '1'\n",
    "        posFita = posFita - 1\n",
    "        estadoQ3(fita, posFita)\n",
    "    elif fita[posFita] == '1':\n",
    "        fita[posFita] = '0'\n",
    "        posFita = posFita - 1\n",
    "        estadoQ4(fita, posFita)\n",
    "    else:\n",
    "        posFita = posFita + 1\n",
    "        estadoQ6(fita, posFita)\n",
    "\n",
    "def estadoQ4(fita, posFita):\n",
    "    if fita[posFita] == '0' or fita[posFita] == '1':\n",
    "        posFita = posFita - 1\n",
    "        estadoQ4(fita, posFita)\n",
    "    else:\n",
    "        posFita = posFita - 1\n",
    "        estadoQ5(fita, posFita)\n",
    "\n",
    "def estadoQ5(fita, posFita):\n",
    "    if posFita == 0:\n",
    "        fita.insert(0, 'B')\n",
    "        posFita = posFita + 1\n",
    "\n",
    "\n",
    "    if fita[posFita] == '1':\n",
    "        fita[posFita] = '0'\n",
    "        posFita = posFita - 1\n",
    "        estadoQ5(fita, posFita)\n",
    "    else:\n",
    "        fita[posFita] = '1'\n",
    "        posFita = posFita + 1\n",
    "\n",
    "        estadoQ1(fita, posFita)\n",
    "\n",
    "def estadoQ6(fita, posFita):\n",
    "    if fita[posFita] == '1':\n",
    "        fita[posFita] = 'B'\n",
    "        posFita = posFita + 1\n",
    "        estadoQ6(fita, posFita)\n",
    "    else:\n",
    "        while('B' in fita):\n",
    "            fita.remove('B')\n",
    "        novaFita = ''.join(fita)\n",
    "        print(\"Resultado: \" + novaFita)\n",
    "\n",
    "\n",
    "vetorFita = ['B']\n",
    "\n",
    "primeiroNumero = input(\"Insira o primeiro numero: \")\n",
    "segundoNumero = input(\"Insira o segundo numero: \")\n",
    "\n",
    "for x in list(primeiroNumero):\n",
    "    vetorFita.append(x)\n",
    "\n",
    "vetorFita.append('B')\n",
    "\n",
    "for x in list(segundoNumero):\n",
    "    vetorFita.append(x)\n",
    "\n",
    "vetorFita.append('B')\n",
    "\n",
    "estadoQ0(vetorFita, 0)"
   ]
  },
  {
   "cell_type": "code",
   "execution_count": null,
   "id": "a6b74c7b",
   "metadata": {},
   "outputs": [],
   "source": []
  },
  {
   "cell_type": "code",
   "execution_count": null,
   "id": "5a116df6",
   "metadata": {},
   "outputs": [],
   "source": []
  },
  {
   "cell_type": "code",
   "execution_count": null,
   "id": "6e9553da",
   "metadata": {},
   "outputs": [],
   "source": []
  }
 ],
 "metadata": {
  "kernelspec": {
   "display_name": "Python 3 (ipykernel)",
   "language": "python",
   "name": "python3"
  },
  "language_info": {
   "codemirror_mode": {
    "name": "ipython",
    "version": 3
   },
   "file_extension": ".py",
   "mimetype": "text/x-python",
   "name": "python",
   "nbconvert_exporter": "python",
   "pygments_lexer": "ipython3",
   "version": "3.9.7"
  }
 },
 "nbformat": 4,
 "nbformat_minor": 5
}
